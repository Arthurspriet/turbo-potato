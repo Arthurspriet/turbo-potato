{
 "cells": [
  {
   "cell_type": "code",
   "execution_count": 85,
   "id": "6e31d4cf",
   "metadata": {},
   "outputs": [],
   "source": [
    "## Requirement\n",
    "import smtplib\n",
    "import tweepy\n",
    "from tweepy.auth import OAuthHandler \n",
    "import pandas as pd\n",
    "import re\n",
    "import datetime\n",
    "secrets_dict ={'API Key': '2IzuBe0WXECoP7nkENGAB1GYJ',\n",
    " 'API Secret': 'wRv9DGQUkjMTNISkJ16Qj73sPB3aHBEB2K9GkZH6uONZywX95t',\n",
    " 'Bearer token': 'AAAAAAAAAAAAAAAAAAAAANNjCQEAAAAA0tQMCT0VtM7NNbjKb5pY%2BUqnzyU%3D5XXmWifVd9R7LJL08OHXaDzdOZttCxETPAycpbsIMCqmxzwSmU',\n",
    " 'Access Token': '1223293246681559042-2pRBktBdT3aH736Q7EgPjLIkON0ame',\n",
    " 'Secret Access Token': '7Ahg4hJ8Cu9ch8yVjMzPUg7y6a2FWG0czAzch7mjqxPgS'}\n",
    "auth = tweepy.OAuthHandler(secrets_dict['API Key'], secrets_dict['API Secret'])\n",
    "auth.set_access_token(secrets_dict['Access Token'], secrets_dict['Secret Access Token'])\n",
    "api = tweepy.API(auth,wait_on_rate_limit=True)\n",
    "#FUNCTIONS\n",
    "my_dict= {'Date', 'Open', 'High', 'Low', 'Close', 'Adj Close', 'Volume',\n",
    "       'Volatility', 'Day_diff', 'Relative Volatility', 'date', 'tweet',\n",
    "       'tesla', 'model', 'sales', 'buy', 'btc', 'Doge'}\n",
    "dic ={'tesla'}\n",
    "all_the_tweet =[]\n",
    "#take the last 200 tweets\n",
    "def account_tweet (user) :\n",
    "    user = str(user)\n",
    "    tweets = api.user_timeline(screen_name = user ,count = 200)\n",
    "    user_tweet = [tweet.text for tweet in tweets]\n",
    "    date_tweet=[tweet.created_at for tweet in tweets]\n",
    "    date = [date.strftime(\"%d %b %Y\") for date in date_tweet] \n",
    "    user_tweet = pd.DataFrame(user_tweet)\n",
    "    user_tweet['Tweet date'] = date\n",
    "    user_tweet.columns = ['Tweet','Date']\n",
    "    return user_tweet\n",
    "#look for key word in tweet\n",
    "\n",
    "def Key_word_in_tweet(x,y) :\n",
    "    for word in y : \n",
    "        #key=str(word)\n",
    "        #key = re.findall('[A-z][a-z]+',key)\n",
    "        for k in y :\n",
    "            x[word] = x['Tweet'].str.find(k)\n",
    "        x = (x[x[word] > 0])\n",
    "        all_the_tweet.append(x)\n",
    "        return all_the_tweet\n",
    "\n",
    "#send an email\n",
    "def email_body(z):\n",
    "    emailbody = (z,'New tweets from elon')\n",
    "    emailbody=str(emailbody)\n",
    "    return emailbody\n",
    "\n",
    "\n",
    "def send_email(z):\n",
    "    gmail_user = 'testmail.python.ironhack@gmail.com'\n",
    "    gmail_password = 'Ironhack2021'\n",
    "\n",
    "    sent_from = gmail_user\n",
    "    to = ['josephfranckenstein@gmail.com']\n",
    "    subject = 'OMG Super Important Message'\n",
    "    body = email_body(z)\n",
    "\n",
    "    email_text = \"\"\"\\\n",
    "    From: %s\n",
    "    To: %s\n",
    "    Subject: %s\n",
    "\n",
    "    %s\n",
    "    \"\"\" % (sent_from, \", \".join(to), subject, body)\n",
    "\n",
    "    try:\n",
    "        server = smtplib.SMTP_SSL('smtp.gmail.com', 465)\n",
    "        server.ehlo()\n",
    "        server.login(gmail_user, gmail_password)\n",
    "        server.sendmail(sent_from, to, email_text)\n",
    "        server.close()\n",
    "\n",
    "        print('Email sent!')\n",
    "    except:\n",
    "        print('Something went wrong...')\n",
    "#Program execution\n",
    "def program_flow() :\n",
    "    user = input('please enter a username ')\n",
    "    y = account_tweet(user)\n",
    "    z = Key_word_in_tweet(y,dic)\n",
    "    if len(z)==0:\n",
    "        print('no keywords today')\n",
    "    else :\n",
    "        send_email(z)\n",
    "    \n"
   ]
  },
  {
   "cell_type": "code",
   "execution_count": 86,
   "id": "4e3bce9f",
   "metadata": {},
   "outputs": [
    {
     "name": "stdout",
     "output_type": "stream",
     "text": [
      "please enter a username elonmusk\n",
      "Something went wrong...\n"
     ]
    }
   ],
   "source": [
    "program_flow()"
   ]
  },
  {
   "cell_type": "code",
   "execution_count": null,
   "id": "23d32c68",
   "metadata": {},
   "outputs": [],
   "source": []
  },
  {
   "cell_type": "code",
   "execution_count": null,
   "id": "9b2960b4",
   "metadata": {},
   "outputs": [],
   "source": []
  }
 ],
 "metadata": {
  "kernelspec": {
   "display_name": "Python 3 (ipykernel)",
   "language": "python",
   "name": "python3"
  },
  "language_info": {
   "codemirror_mode": {
    "name": "ipython",
    "version": 3
   },
   "file_extension": ".py",
   "mimetype": "text/x-python",
   "name": "python",
   "nbconvert_exporter": "python",
   "pygments_lexer": "ipython3",
   "version": "3.9.7"
  }
 },
 "nbformat": 4,
 "nbformat_minor": 5
}
