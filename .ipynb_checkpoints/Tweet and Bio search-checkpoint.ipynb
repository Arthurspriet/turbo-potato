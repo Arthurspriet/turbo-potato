{
 "cells": [
  {
   "cell_type": "code",
   "execution_count": 190,
   "id": "62c8e1cc",
   "metadata": {},
   "outputs": [],
   "source": [
    "import tweepy\n",
    "from tweepy.auth import OAuthHandler \n",
    "import pandas as pd\n",
    "import re\n",
    "import datetime\n",
    "secrets_dict ={'API Key': '2IzuBe0WXECoP7nkENGAB1GYJ',\n",
    " 'API Secret': 'wRv9DGQUkjMTNISkJ16Qj73sPB3aHBEB2K9GkZH6uONZywX95t',\n",
    " 'Bearer token': 'AAAAAAAAAAAAAAAAAAAAANNjCQEAAAAA0tQMCT0VtM7NNbjKb5pY%2BUqnzyU%3D5XXmWifVd9R7LJL08OHXaDzdOZttCxETPAycpbsIMCqmxzwSmU',\n",
    " 'Access Token': '1223293246681559042-2pRBktBdT3aH736Q7EgPjLIkON0ame',\n",
    " 'Secret Access Token': '7Ahg4hJ8Cu9ch8yVjMzPUg7y6a2FWG0czAzch7mjqxPgS'}\n",
    "auth = tweepy.OAuthHandler(secrets_dict['API Key'], secrets_dict['API Secret'])\n",
    "auth.set_access_token(secrets_dict['Access Token'], secrets_dict['Secret Access Token'])\n",
    "api = tweepy.API(auth,wait_on_rate_limit=True)\n",
    "Celeb = pd.read_csv('/Users/arthurspriet/Desktop/Top 1000 celebrity twitter accounts/Top-1000-Celebrity-Twitter-Accounts.csv')\n",
    "Celeb['name'] = Celeb['name'].str.lower()\n",
    "Celeb = Celeb[['name','twitter']]"
   ]
  },
  {
   "cell_type": "code",
   "execution_count": 191,
   "id": "e7ceab22",
   "metadata": {},
   "outputs": [
    {
     "data": {
      "text/html": [
       "<div>\n",
       "<style scoped>\n",
       "    .dataframe tbody tr th:only-of-type {\n",
       "        vertical-align: middle;\n",
       "    }\n",
       "\n",
       "    .dataframe tbody tr th {\n",
       "        vertical-align: top;\n",
       "    }\n",
       "\n",
       "    .dataframe thead th {\n",
       "        text-align: right;\n",
       "    }\n",
       "</style>\n",
       "<table border=\"1\" class=\"dataframe\">\n",
       "  <thead>\n",
       "    <tr style=\"text-align: right;\">\n",
       "      <th></th>\n",
       "      <th>name</th>\n",
       "      <th>twitter</th>\n",
       "    </tr>\n",
       "  </thead>\n",
       "  <tbody>\n",
       "    <tr>\n",
       "      <th>0</th>\n",
       "      <td>katy perry</td>\n",
       "      <td>katyperry</td>\n",
       "    </tr>\n",
       "    <tr>\n",
       "      <th>1</th>\n",
       "      <td>justin bieber</td>\n",
       "      <td>justinbieber</td>\n",
       "    </tr>\n",
       "    <tr>\n",
       "      <th>2</th>\n",
       "      <td>taylor swift</td>\n",
       "      <td>taylorswift13</td>\n",
       "    </tr>\n",
       "    <tr>\n",
       "      <th>3</th>\n",
       "      <td>rihanna</td>\n",
       "      <td>rihanna</td>\n",
       "    </tr>\n",
       "    <tr>\n",
       "      <th>4</th>\n",
       "      <td>the countess</td>\n",
       "      <td>ladygaga</td>\n",
       "    </tr>\n",
       "    <tr>\n",
       "      <th>...</th>\n",
       "      <td>...</td>\n",
       "      <td>...</td>\n",
       "    </tr>\n",
       "    <tr>\n",
       "      <th>991</th>\n",
       "      <td>zedd</td>\n",
       "      <td>Zedd</td>\n",
       "    </tr>\n",
       "    <tr>\n",
       "      <th>992</th>\n",
       "      <td>troian</td>\n",
       "      <td>SleepintheGardn</td>\n",
       "    </tr>\n",
       "    <tr>\n",
       "      <th>993</th>\n",
       "      <td>juicy j</td>\n",
       "      <td>therealjuicyj</td>\n",
       "    </tr>\n",
       "    <tr>\n",
       "      <th>994</th>\n",
       "      <td>manu gavassi</td>\n",
       "      <td>manugavassi</td>\n",
       "    </tr>\n",
       "    <tr>\n",
       "      <th>995</th>\n",
       "      <td>seu jorge</td>\n",
       "      <td>soujorge</td>\n",
       "    </tr>\n",
       "  </tbody>\n",
       "</table>\n",
       "<p>996 rows × 2 columns</p>\n",
       "</div>"
      ],
      "text/plain": [
       "              name          twitter\n",
       "0       katy perry        katyperry\n",
       "1    justin bieber     justinbieber\n",
       "2     taylor swift    taylorswift13\n",
       "3          rihanna          rihanna\n",
       "4     the countess         ladygaga\n",
       "..             ...              ...\n",
       "991           zedd             Zedd\n",
       "992         troian  SleepintheGardn\n",
       "993        juicy j    therealjuicyj\n",
       "994   manu gavassi      manugavassi\n",
       "995      seu jorge         soujorge\n",
       "\n",
       "[996 rows x 2 columns]"
      ]
     },
     "execution_count": 191,
     "metadata": {},
     "output_type": "execute_result"
    }
   ],
   "source": [
    "Celeb"
   ]
  },
  {
   "cell_type": "code",
   "execution_count": 192,
   "id": "cde9b55e",
   "metadata": {},
   "outputs": [],
   "source": [
    "def account_tweet (user) :\n",
    "    #user = input('please enter a username')\n",
    "    user = str(user)\n",
    "    tweets = api.user_timeline(screen_name = user ,count = 200)\n",
    "    user_tweet = [tweet.text for tweet in tweets]\n",
    "    date_tweet=[tweet.created_at for tweet in tweets]\n",
    "    date = [date.strftime(\"%d %b %Y\") for date in date_tweet] \n",
    "    user_tweet = pd.DataFrame(user_tweet)\n",
    "    user_tweet['Tweet date'] = date\n",
    "    user_tweet.columns = ['Tweet','Date']\n",
    "    return user_tweet"
   ]
  },
  {
   "cell_type": "code",
   "execution_count": 193,
   "id": "d7645246",
   "metadata": {},
   "outputs": [
    {
     "data": {
      "text/html": [
       "<div>\n",
       "<style scoped>\n",
       "    .dataframe tbody tr th:only-of-type {\n",
       "        vertical-align: middle;\n",
       "    }\n",
       "\n",
       "    .dataframe tbody tr th {\n",
       "        vertical-align: top;\n",
       "    }\n",
       "\n",
       "    .dataframe thead th {\n",
       "        text-align: right;\n",
       "    }\n",
       "</style>\n",
       "<table border=\"1\" class=\"dataframe\">\n",
       "  <thead>\n",
       "    <tr style=\"text-align: right;\">\n",
       "      <th></th>\n",
       "      <th>Tweet</th>\n",
       "      <th>Date</th>\n",
       "    </tr>\n",
       "  </thead>\n",
       "  <tbody>\n",
       "    <tr>\n",
       "      <th>0</th>\n",
       "      <td>@alp_cp @GerberKawasaki 🧐</td>\n",
       "      <td>04 Nov 2021</td>\n",
       "    </tr>\n",
       "    <tr>\n",
       "      <th>1</th>\n",
       "      <td>@teslaownersSV Cool :)</td>\n",
       "      <td>04 Nov 2021</td>\n",
       "    </tr>\n",
       "    <tr>\n",
       "      <th>2</th>\n",
       "      <td>@GerberKawasaki Not yet. They should just post...</td>\n",
       "      <td>03 Nov 2021</td>\n",
       "    </tr>\n",
       "    <tr>\n",
       "      <th>3</th>\n",
       "      <td>And Mars https://t.co/geLbxjAlsw</td>\n",
       "      <td>03 Nov 2021</td>\n",
       "    </tr>\n",
       "    <tr>\n",
       "      <th>4</th>\n",
       "      <td>@robxlynx Haha true</td>\n",
       "      <td>03 Nov 2021</td>\n",
       "    </tr>\n",
       "    <tr>\n",
       "      <th>...</th>\n",
       "      <td>...</td>\n",
       "      <td>...</td>\n",
       "    </tr>\n",
       "    <tr>\n",
       "      <th>195</th>\n",
       "      <td>@SawyerMerritt As soon as major construction i...</td>\n",
       "      <td>17 Oct 2021</td>\n",
       "    </tr>\n",
       "    <tr>\n",
       "      <th>196</th>\n",
       "      <td>@BillyM2k 😛</td>\n",
       "      <td>17 Oct 2021</td>\n",
       "    </tr>\n",
       "    <tr>\n",
       "      <th>197</th>\n",
       "      <td>I’ve thought about and … I’m not sorry for par...</td>\n",
       "      <td>17 Oct 2021</td>\n",
       "    </tr>\n",
       "    <tr>\n",
       "      <th>198</th>\n",
       "      <td>(\\_/)\\n( •_•)\\n/ &amp;gt;🚀</td>\n",
       "      <td>17 Oct 2021</td>\n",
       "    </tr>\n",
       "    <tr>\n",
       "      <th>199</th>\n",
       "      <td>@slashdot Autonomy must &amp;amp; will work even w...</td>\n",
       "      <td>17 Oct 2021</td>\n",
       "    </tr>\n",
       "  </tbody>\n",
       "</table>\n",
       "<p>200 rows × 2 columns</p>\n",
       "</div>"
      ],
      "text/plain": [
       "                                                 Tweet         Date\n",
       "0                            @alp_cp @GerberKawasaki 🧐  04 Nov 2021\n",
       "1                               @teslaownersSV Cool :)  04 Nov 2021\n",
       "2    @GerberKawasaki Not yet. They should just post...  03 Nov 2021\n",
       "3                     And Mars https://t.co/geLbxjAlsw  03 Nov 2021\n",
       "4                                  @robxlynx Haha true  03 Nov 2021\n",
       "..                                                 ...          ...\n",
       "195  @SawyerMerritt As soon as major construction i...  17 Oct 2021\n",
       "196                                        @BillyM2k 😛  17 Oct 2021\n",
       "197  I’ve thought about and … I’m not sorry for par...  17 Oct 2021\n",
       "198                             (\\_/)\\n( •_•)\\n/ &gt;🚀  17 Oct 2021\n",
       "199  @slashdot Autonomy must &amp; will work even w...  17 Oct 2021\n",
       "\n",
       "[200 rows x 2 columns]"
      ]
     },
     "execution_count": 193,
     "metadata": {},
     "output_type": "execute_result"
    }
   ],
   "source": [
    "account_tweet('elonmusk')"
   ]
  },
  {
   "cell_type": "code",
   "execution_count": 194,
   "id": "8f59034e",
   "metadata": {},
   "outputs": [],
   "source": [
    "def Key_word_in_tweet(x) :\n",
    "    key= input('Please enter some keys words separated by a space ')\n",
    "    key=str(key)\n",
    "    key = re.findall('[A-z][a-z]+',key)\n",
    "    for k in key :\n",
    "        x[k] = x['Tweet'].str.find(k)\n",
    "    x = (x[x[k] > 0])\n",
    "\n",
    "    return x"
   ]
  },
  {
   "cell_type": "code",
   "execution_count": 195,
   "id": "8854146a",
   "metadata": {},
   "outputs": [],
   "source": [
    "def find_account () :\n",
    "    celeb = Celeb.copy()\n",
    "    person = input('please enter a person ')\n",
    "    person = person.lower()\n",
    "    filter1 = Celeb['name']== person\n",
    "    x = celeb.where(filter1,inplace = True)\n",
    "    x = celeb.dropna(subset = [\"twitter\"], inplace=True)\n",
    "    x = celeb['twitter']\n",
    "    x = str(x)\n",
    "    x = re.findall('[A-z]+',x)\n",
    "    x = x[0]\n",
    "    return x"
   ]
  },
  {
   "cell_type": "code",
   "execution_count": 196,
   "id": "6cd75cb1",
   "metadata": {},
   "outputs": [
    {
     "name": "stdout",
     "output_type": "stream",
     "text": [
      "please enter a person elon musk\n"
     ]
    },
    {
     "data": {
      "text/plain": [
       "'elonmusk'"
      ]
     },
     "execution_count": 196,
     "metadata": {},
     "output_type": "execute_result"
    }
   ],
   "source": [
    "find_account()"
   ]
  },
  {
   "cell_type": "code",
   "execution_count": 201,
   "id": "04c4099b",
   "metadata": {},
   "outputs": [],
   "source": [
    "def program_flow() :\n",
    "#    user = input('please enter a username')\n",
    "   # user = find_account()\n",
    "    x = account_tweet(find_account())\n",
    "#    key= input('Please enter some keys words separated by a space')\n",
    "    y = Key_word_in_tweet(x)\n",
    "    return y"
   ]
  },
  {
   "cell_type": "code",
   "execution_count": 202,
   "id": "1ca30fc5",
   "metadata": {},
   "outputs": [
    {
     "name": "stdout",
     "output_type": "stream",
     "text": [
      "please enter a person elon musk\n",
      "Please enter some keys words separated by a space tesla\n"
     ]
    }
   ],
   "source": [
    "x = program_flow()\n"
   ]
  },
  {
   "cell_type": "code",
   "execution_count": 203,
   "id": "1304d3b3",
   "metadata": {},
   "outputs": [
    {
     "data": {
      "text/html": [
       "<div>\n",
       "<style scoped>\n",
       "    .dataframe tbody tr th:only-of-type {\n",
       "        vertical-align: middle;\n",
       "    }\n",
       "\n",
       "    .dataframe tbody tr th {\n",
       "        vertical-align: top;\n",
       "    }\n",
       "\n",
       "    .dataframe thead th {\n",
       "        text-align: right;\n",
       "    }\n",
       "</style>\n",
       "<table border=\"1\" class=\"dataframe\">\n",
       "  <thead>\n",
       "    <tr style=\"text-align: right;\">\n",
       "      <th></th>\n",
       "      <th>Tweet</th>\n",
       "      <th>Date</th>\n",
       "      <th>tesla</th>\n",
       "    </tr>\n",
       "  </thead>\n",
       "  <tbody>\n",
       "    <tr>\n",
       "      <th>1</th>\n",
       "      <td>@teslaownersSV Cool :)</td>\n",
       "      <td>04 Nov 2021</td>\n",
       "      <td>1</td>\n",
       "    </tr>\n",
       "    <tr>\n",
       "      <th>9</th>\n",
       "      <td>@teslaownersSV !</td>\n",
       "      <td>02 Nov 2021</td>\n",
       "      <td>1</td>\n",
       "    </tr>\n",
       "    <tr>\n",
       "      <th>15</th>\n",
       "      <td>@teslaownersSV You’re welcome!\\n\\nIf any of th...</td>\n",
       "      <td>02 Nov 2021</td>\n",
       "      <td>1</td>\n",
       "    </tr>\n",
       "  </tbody>\n",
       "</table>\n",
       "</div>"
      ],
      "text/plain": [
       "                                                Tweet         Date  tesla\n",
       "1                              @teslaownersSV Cool :)  04 Nov 2021      1\n",
       "9                                    @teslaownersSV !  02 Nov 2021      1\n",
       "15  @teslaownersSV You’re welcome!\\n\\nIf any of th...  02 Nov 2021      1"
      ]
     },
     "execution_count": 203,
     "metadata": {},
     "output_type": "execute_result"
    }
   ],
   "source": [
    "x\n"
   ]
  },
  {
   "cell_type": "code",
   "execution_count": null,
   "id": "29b28116",
   "metadata": {},
   "outputs": [],
   "source": []
  },
  {
   "cell_type": "code",
   "execution_count": null,
   "id": "79df9dd8",
   "metadata": {},
   "outputs": [],
   "source": []
  }
 ],
 "metadata": {
  "kernelspec": {
   "display_name": "Python 3 (ipykernel)",
   "language": "python",
   "name": "python3"
  },
  "language_info": {
   "codemirror_mode": {
    "name": "ipython",
    "version": 3
   },
   "file_extension": ".py",
   "mimetype": "text/x-python",
   "name": "python",
   "nbconvert_exporter": "python",
   "pygments_lexer": "ipython3",
   "version": "3.9.7"
  }
 },
 "nbformat": 4,
 "nbformat_minor": 5
}
