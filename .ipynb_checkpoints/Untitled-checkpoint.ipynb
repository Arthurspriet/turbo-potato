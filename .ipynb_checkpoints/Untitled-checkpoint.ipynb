{
 "cells": [
  {
   "cell_type": "code",
   "execution_count": 3,
   "id": "5509d9d0",
   "metadata": {},
   "outputs": [],
   "source": [
    "import tweepy\n",
    "from tweepy.auth import OAuthHandler \n",
    "import pandas as pd\n",
    "import re"
   ]
  },
  {
   "cell_type": "code",
   "execution_count": 8,
   "id": "9fc9ca91",
   "metadata": {},
   "outputs": [],
   "source": [
    "secrets_dict ={'API Key': '2IzuBe0WXECoP7nkENGAB1GYJ',\n",
    " 'API Secret': 'wRv9DGQUkjMTNISkJ16Qj73sPB3aHBEB2K9GkZH6uONZywX95t',\n",
    " 'Bearer token': 'AAAAAAAAAAAAAAAAAAAAANNjCQEAAAAA0tQMCT0VtM7NNbjKb5pY%2BUqnzyU%3D5XXmWifVd9R7LJL08OHXaDzdOZttCxETPAycpbsIMCqmxzwSmU',\n",
    " 'Access Token': '1223293246681559042-2pRBktBdT3aH736Q7EgPjLIkON0ame',\n",
    " 'Secret Access Token': '7Ahg4hJ8Cu9ch8yVjMzPUg7y6a2FWG0czAzch7mjqxPgS'}"
   ]
  },
  {
   "cell_type": "code",
   "execution_count": 9,
   "id": "94d0e876",
   "metadata": {},
   "outputs": [],
   "source": [
    "auth = tweepy.OAuthHandler(secrets_dict['API Key'], secrets_dict['API Secret'])"
   ]
  },
  {
   "cell_type": "code",
   "execution_count": 10,
   "id": "686df6b9",
   "metadata": {},
   "outputs": [],
   "source": [
    "auth.set_access_token(secrets_dict['Access Token'], secrets_dict['Secret Access Token'])"
   ]
  },
  {
   "cell_type": "code",
   "execution_count": 11,
   "id": "b11e578d",
   "metadata": {},
   "outputs": [],
   "source": [
    "api = tweepy.API(auth)"
   ]
  },
  {
   "cell_type": "code",
   "execution_count": 15,
   "id": "fd4f5006",
   "metadata": {},
   "outputs": [
    {
     "name": "stderr",
     "output_type": "stream",
     "text": [
      "Unexpected parameter: id\n"
     ]
    },
    {
     "data": {
      "text/plain": [
       "User(_api=<tweepy.api.API object at 0x165419a90>, _json={'id': 44196397, 'id_str': '44196397', 'name': 'Elon Musk', 'screen_name': 'elonmusk', 'location': '', 'profile_location': None, 'description': '', 'url': None, 'entities': {'description': {'urls': []}}, 'protected': False, 'followers_count': 62048302, 'friends_count': 105, 'listed_count': 79924, 'created_at': 'Tue Jun 02 20:12:29 +0000 2009', 'favourites_count': 10705, 'utc_offset': None, 'time_zone': None, 'geo_enabled': False, 'verified': True, 'statuses_count': 15883, 'lang': None, 'status': {'created_at': 'Wed Nov 03 00:00:38 +0000 2021', 'id': 1455686318927790084, 'id_str': '1455686318927790084', 'text': '@BillyM2k ☺️', 'truncated': False, 'entities': {'hashtags': [], 'symbols': [], 'user_mentions': [{'screen_name': 'BillyM2k', 'name': 'Shibetoshi Nakamoto', 'id': 30699048, 'id_str': '30699048', 'indices': [0, 9]}], 'urls': []}, 'source': '<a href=\"http://twitter.com/download/iphone\" rel=\"nofollow\">Twitter for iPhone</a>', 'in_reply_to_status_id': 1455671083672109058, 'in_reply_to_status_id_str': '1455671083672109058', 'in_reply_to_user_id': 30699048, 'in_reply_to_user_id_str': '30699048', 'in_reply_to_screen_name': 'BillyM2k', 'geo': None, 'coordinates': None, 'place': None, 'contributors': None, 'is_quote_status': False, 'retweet_count': 400, 'favorite_count': 3068, 'favorited': False, 'retweeted': False, 'lang': 'und'}, 'contributors_enabled': False, 'is_translator': False, 'is_translation_enabled': False, 'profile_background_color': 'C0DEED', 'profile_background_image_url': 'http://abs.twimg.com/images/themes/theme1/bg.png', 'profile_background_image_url_https': 'https://abs.twimg.com/images/themes/theme1/bg.png', 'profile_background_tile': False, 'profile_image_url': 'http://pbs.twimg.com/profile_images/1442634650703237120/mXIcYtIs_normal.jpg', 'profile_image_url_https': 'https://pbs.twimg.com/profile_images/1442634650703237120/mXIcYtIs_normal.jpg', 'profile_banner_url': 'https://pbs.twimg.com/profile_banners/44196397/1576183471', 'profile_link_color': '0084B4', 'profile_sidebar_border_color': 'C0DEED', 'profile_sidebar_fill_color': 'DDEEF6', 'profile_text_color': '333333', 'profile_use_background_image': True, 'has_extended_profile': True, 'default_profile': False, 'default_profile_image': False, 'following': False, 'follow_request_sent': False, 'notifications': False, 'translator_type': 'none', 'withheld_in_countries': []}, id=44196397, id_str='44196397', name='Elon Musk', screen_name='elonmusk', location='', profile_location=None, description='', url=None, entities={'description': {'urls': []}}, protected=False, followers_count=62048302, friends_count=105, listed_count=79924, created_at=datetime.datetime(2009, 6, 2, 20, 12, 29, tzinfo=datetime.timezone.utc), favourites_count=10705, utc_offset=None, time_zone=None, geo_enabled=False, verified=True, statuses_count=15883, lang=None, status=Status(_api=<tweepy.api.API object at 0x165419a90>, _json={'created_at': 'Wed Nov 03 00:00:38 +0000 2021', 'id': 1455686318927790084, 'id_str': '1455686318927790084', 'text': '@BillyM2k ☺️', 'truncated': False, 'entities': {'hashtags': [], 'symbols': [], 'user_mentions': [{'screen_name': 'BillyM2k', 'name': 'Shibetoshi Nakamoto', 'id': 30699048, 'id_str': '30699048', 'indices': [0, 9]}], 'urls': []}, 'source': '<a href=\"http://twitter.com/download/iphone\" rel=\"nofollow\">Twitter for iPhone</a>', 'in_reply_to_status_id': 1455671083672109058, 'in_reply_to_status_id_str': '1455671083672109058', 'in_reply_to_user_id': 30699048, 'in_reply_to_user_id_str': '30699048', 'in_reply_to_screen_name': 'BillyM2k', 'geo': None, 'coordinates': None, 'place': None, 'contributors': None, 'is_quote_status': False, 'retweet_count': 400, 'favorite_count': 3068, 'favorited': False, 'retweeted': False, 'lang': 'und'}, created_at=datetime.datetime(2021, 11, 3, 0, 0, 38, tzinfo=datetime.timezone.utc), id=1455686318927790084, id_str='1455686318927790084', text='@BillyM2k ☺️', truncated=False, entities={'hashtags': [], 'symbols': [], 'user_mentions': [{'screen_name': 'BillyM2k', 'name': 'Shibetoshi Nakamoto', 'id': 30699048, 'id_str': '30699048', 'indices': [0, 9]}], 'urls': []}, source='Twitter for iPhone', source_url='http://twitter.com/download/iphone', in_reply_to_status_id=1455671083672109058, in_reply_to_status_id_str='1455671083672109058', in_reply_to_user_id=30699048, in_reply_to_user_id_str='30699048', in_reply_to_screen_name='BillyM2k', geo=None, coordinates=None, place=None, contributors=None, is_quote_status=False, retweet_count=400, favorite_count=3068, favorited=False, retweeted=False, lang='und'), contributors_enabled=False, is_translator=False, is_translation_enabled=False, profile_background_color='C0DEED', profile_background_image_url='http://abs.twimg.com/images/themes/theme1/bg.png', profile_background_image_url_https='https://abs.twimg.com/images/themes/theme1/bg.png', profile_background_tile=False, profile_image_url='http://pbs.twimg.com/profile_images/1442634650703237120/mXIcYtIs_normal.jpg', profile_image_url_https='https://pbs.twimg.com/profile_images/1442634650703237120/mXIcYtIs_normal.jpg', profile_banner_url='https://pbs.twimg.com/profile_banners/44196397/1576183471', profile_link_color='0084B4', profile_sidebar_border_color='C0DEED', profile_sidebar_fill_color='DDEEF6', profile_text_color='333333', profile_use_background_image=True, has_extended_profile=True, default_profile=False, default_profile_image=False, following=False, follow_request_sent=False, notifications=False, translator_type='none', withheld_in_countries=[])"
      ]
     },
     "execution_count": 15,
     "metadata": {},
     "output_type": "execute_result"
    }
   ],
   "source": [
    "api.get_user(id='elonmusk')"
   ]
  },
  {
   "cell_type": "code",
   "execution_count": 29,
   "id": "1774a7e0",
   "metadata": {},
   "outputs": [
    {
     "ename": "NotImplementedError",
     "evalue": "",
     "output_type": "error",
     "traceback": [
      "\u001b[0;31m---------------------------------------------------------------------------\u001b[0m",
      "\u001b[0;31mNotImplementedError\u001b[0m                       Traceback (most recent call last)",
      "\u001b[0;32m/var/folders/bx/4mbq6kdx7yq1jqkn_7345mqc0000gn/T/ipykernel_1641/1966904405.py\u001b[0m in \u001b[0;36m<module>\u001b[0;34m\u001b[0m\n\u001b[1;32m      1\u001b[0m \u001b[0mtweets\u001b[0m \u001b[0;34m=\u001b[0m \u001b[0mapi\u001b[0m\u001b[0;34m.\u001b[0m\u001b[0muser_timeline\u001b[0m\u001b[0;34m(\u001b[0m\u001b[0mscreen_name\u001b[0m \u001b[0;34m=\u001b[0m \u001b[0;34m'elonmusk'\u001b[0m\u001b[0;34m)\u001b[0m\u001b[0;34m\u001b[0m\u001b[0;34m\u001b[0m\u001b[0m\n\u001b[1;32m      2\u001b[0m \u001b[0mtweets\u001b[0m\u001b[0;34m\u001b[0m\u001b[0;34m\u001b[0m\u001b[0m\n\u001b[0;32m----> 3\u001b[0;31m \u001b[0mpd\u001b[0m\u001b[0;34m.\u001b[0m\u001b[0mjson_normalize\u001b[0m\u001b[0;34m(\u001b[0m\u001b[0mtweet\u001b[0m\u001b[0;34m)\u001b[0m\u001b[0;34m\u001b[0m\u001b[0;34m\u001b[0m\u001b[0m\n\u001b[0m",
      "\u001b[0;32m/opt/anaconda3/envs/Iron/lib/python3.9/site-packages/pandas/io/json/_normalize.py\u001b[0m in \u001b[0;36m_json_normalize\u001b[0;34m(data, record_path, meta, meta_prefix, record_prefix, errors, sep, max_level)\u001b[0m\n\u001b[1;32m    421\u001b[0m         \u001b[0mdata\u001b[0m \u001b[0;34m=\u001b[0m \u001b[0mlist\u001b[0m\u001b[0;34m(\u001b[0m\u001b[0mdata\u001b[0m\u001b[0;34m)\u001b[0m\u001b[0;34m\u001b[0m\u001b[0;34m\u001b[0m\u001b[0m\n\u001b[1;32m    422\u001b[0m     \u001b[0;32melse\u001b[0m\u001b[0;34m:\u001b[0m\u001b[0;34m\u001b[0m\u001b[0;34m\u001b[0m\u001b[0m\n\u001b[0;32m--> 423\u001b[0;31m         \u001b[0;32mraise\u001b[0m \u001b[0mNotImplementedError\u001b[0m\u001b[0;34m\u001b[0m\u001b[0;34m\u001b[0m\u001b[0m\n\u001b[0m\u001b[1;32m    424\u001b[0m \u001b[0;34m\u001b[0m\u001b[0m\n\u001b[1;32m    425\u001b[0m     \u001b[0;31m# check to see if a simple recursive function is possible to\u001b[0m\u001b[0;34m\u001b[0m\u001b[0;34m\u001b[0m\u001b[0m\n",
      "\u001b[0;31mNotImplementedError\u001b[0m: "
     ]
    }
   ],
   "source": [
    "tweets = api.user_timeline(screen_name = 'elonmusk')\n",
    "tweets\n",
    "pd.json_normalize(tweet)"
   ]
  },
  {
   "cell_type": "code",
   "execution_count": 24,
   "id": "0f586711",
   "metadata": {},
   "outputs": [
    {
     "data": {
      "text/plain": [
       "20"
      ]
     },
     "execution_count": 24,
     "metadata": {},
     "output_type": "execute_result"
    }
   ],
   "source": [
    "#elon = [tweet.text for tweet in tweets]\n",
    "len(tweets)"
   ]
  },
  {
   "cell_type": "code",
   "execution_count": 30,
   "id": "20547ea2",
   "metadata": {},
   "outputs": [
    {
     "data": {
      "text/plain": [
       "list"
      ]
     },
     "execution_count": 30,
     "metadata": {},
     "output_type": "execute_result"
    }
   ],
   "source": [
    "elon = [tweet.text for tweet in tweets] \n",
    "type(elon)"
   ]
  },
  {
   "cell_type": "code",
   "execution_count": 32,
   "id": "e00b1be0",
   "metadata": {},
   "outputs": [
    {
     "data": {
      "text/html": [
       "<div>\n",
       "<style scoped>\n",
       "    .dataframe tbody tr th:only-of-type {\n",
       "        vertical-align: middle;\n",
       "    }\n",
       "\n",
       "    .dataframe tbody tr th {\n",
       "        vertical-align: top;\n",
       "    }\n",
       "\n",
       "    .dataframe thead th {\n",
       "        text-align: right;\n",
       "    }\n",
       "</style>\n",
       "<table border=\"1\" class=\"dataframe\">\n",
       "  <thead>\n",
       "    <tr style=\"text-align: right;\">\n",
       "      <th></th>\n",
       "      <th>0</th>\n",
       "    </tr>\n",
       "  </thead>\n",
       "  <tbody>\n",
       "    <tr>\n",
       "      <th>0</th>\n",
       "      <td>@BillyM2k ☺️</td>\n",
       "    </tr>\n",
       "    <tr>\n",
       "      <th>1</th>\n",
       "      <td>@BillyM2k 👏</td>\n",
       "    </tr>\n",
       "    <tr>\n",
       "      <th>2</th>\n",
       "      <td>@teslaownersSV !</td>\n",
       "    </tr>\n",
       "    <tr>\n",
       "      <th>3</th>\n",
       "      <td>@BillyM2k How about my lil doge Floki? He woul...</td>\n",
       "    </tr>\n",
       "    <tr>\n",
       "      <th>4</th>\n",
       "      <td>@Tesmanian_com What they are doing is just not...</td>\n",
       "    </tr>\n",
       "    <tr>\n",
       "      <th>5</th>\n",
       "      <td>@Tesmanian_com sigh</td>\n",
       "    </tr>\n",
       "    <tr>\n",
       "      <th>6</th>\n",
       "      <td>@BillyM2k Me!</td>\n",
       "    </tr>\n",
       "    <tr>\n",
       "      <th>7</th>\n",
       "      <td>@arstechnica 💯</td>\n",
       "    </tr>\n",
       "    <tr>\n",
       "      <th>8</th>\n",
       "      <td>@teslaownersSV You’re welcome!\\n\\nIf any of th...</td>\n",
       "    </tr>\n",
       "    <tr>\n",
       "      <th>9</th>\n",
       "      <td>Humankind\\n煮豆燃豆萁\\n豆在釜中泣\\n本是同根生\\n相煎何太急</td>\n",
       "    </tr>\n",
       "    <tr>\n",
       "      <th>10</th>\n",
       "      <td>@HardcoreHistory Almost finished Jünger’s Stor...</td>\n",
       "    </tr>\n",
       "    <tr>\n",
       "      <th>11</th>\n",
       "      <td>@shiraeis @BillyM2k It’s simulations all the w...</td>\n",
       "    </tr>\n",
       "    <tr>\n",
       "      <th>12</th>\n",
       "      <td>@BillyM2k - Everything on the Internet is true...</td>\n",
       "    </tr>\n",
       "    <tr>\n",
       "      <th>13</th>\n",
       "      <td>@PPathole @SpaceX Absolutely</td>\n",
       "    </tr>\n",
       "    <tr>\n",
       "      <th>14</th>\n",
       "      <td>@flcnhvy @adamhoov @Forbes He talks like an NP...</td>\n",
       "    </tr>\n",
       "    <tr>\n",
       "      <th>15</th>\n",
       "      <td>@dogeofficialceo @Forbes 🤣</td>\n",
       "    </tr>\n",
       "    <tr>\n",
       "      <th>16</th>\n",
       "      <td>@adamhoov @Forbes Srsly</td>\n",
       "    </tr>\n",
       "    <tr>\n",
       "      <th>17</th>\n",
       "      <td>@Forbes He looks good even for a 200-year-old!</td>\n",
       "    </tr>\n",
       "    <tr>\n",
       "      <th>18</th>\n",
       "      <td>@RenataKonkoly @Forbes Both of those factories...</td>\n",
       "    </tr>\n",
       "    <tr>\n",
       "      <th>19</th>\n",
       "      <td>@Forbes Literally can’t tell if this is real o...</td>\n",
       "    </tr>\n",
       "  </tbody>\n",
       "</table>\n",
       "</div>"
      ],
      "text/plain": [
       "                                                    0\n",
       "0                                        @BillyM2k ☺️\n",
       "1                                         @BillyM2k 👏\n",
       "2                                    @teslaownersSV !\n",
       "3   @BillyM2k How about my lil doge Floki? He woul...\n",
       "4   @Tesmanian_com What they are doing is just not...\n",
       "5                                 @Tesmanian_com sigh\n",
       "6                                       @BillyM2k Me!\n",
       "7                                      @arstechnica 💯\n",
       "8   @teslaownersSV You’re welcome!\\n\\nIf any of th...\n",
       "9               Humankind\\n煮豆燃豆萁\\n豆在釜中泣\\n本是同根生\\n相煎何太急\n",
       "10  @HardcoreHistory Almost finished Jünger’s Stor...\n",
       "11  @shiraeis @BillyM2k It’s simulations all the w...\n",
       "12  @BillyM2k - Everything on the Internet is true...\n",
       "13                       @PPathole @SpaceX Absolutely\n",
       "14  @flcnhvy @adamhoov @Forbes He talks like an NP...\n",
       "15                         @dogeofficialceo @Forbes 🤣\n",
       "16                            @adamhoov @Forbes Srsly\n",
       "17     @Forbes He looks good even for a 200-year-old!\n",
       "18  @RenataKonkoly @Forbes Both of those factories...\n",
       "19  @Forbes Literally can’t tell if this is real o..."
      ]
     },
     "execution_count": 32,
     "metadata": {},
     "output_type": "execute_result"
    }
   ],
   "source": [
    "pd.DataFrame(elon)"
   ]
  },
  {
   "cell_type": "code",
   "execution_count": null,
   "id": "102cd4f4",
   "metadata": {},
   "outputs": [],
   "source": []
  }
 ],
 "metadata": {
  "kernelspec": {
   "display_name": "Python 3 (ipykernel)",
   "language": "python",
   "name": "python3"
  },
  "language_info": {
   "codemirror_mode": {
    "name": "ipython",
    "version": 3
   },
   "file_extension": ".py",
   "mimetype": "text/x-python",
   "name": "python",
   "nbconvert_exporter": "python",
   "pygments_lexer": "ipython3",
   "version": "3.9.7"
  }
 },
 "nbformat": 4,
 "nbformat_minor": 5
}
