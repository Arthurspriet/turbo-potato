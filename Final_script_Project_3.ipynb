{
 "cells": [
  {
   "cell_type": "code",
   "execution_count": 16,
   "id": "62c8e1cc",
   "metadata": {},
   "outputs": [],
   "source": [
    "import tweepy\n",
    "from tweepy.auth import OAuthHandler \n",
    "import pandas as pd\n",
    "import re\n",
    "import datetime\n",
    "secrets_dict ={'API Key': '2IzuBe0WXECoP7nkENGAB1GYJ',\n",
    " 'API Secret': 'wRv9DGQUkjMTNISkJ16Qj73sPB3aHBEB2K9GkZH6uONZywX95t',\n",
    " 'Bearer token': 'AAAAAAAAAAAAAAAAAAAAANNjCQEAAAAA0tQMCT0VtM7NNbjKb5pY%2BUqnzyU%3D5XXmWifVd9R7LJL08OHXaDzdOZttCxETPAycpbsIMCqmxzwSmU',\n",
    " 'Access Token': '1223293246681559042-2pRBktBdT3aH736Q7EgPjLIkON0ame',\n",
    " 'Secret Access Token': '7Ahg4hJ8Cu9ch8yVjMzPUg7y6a2FWG0czAzch7mjqxPgS'}\n",
    "auth = tweepy.OAuthHandler(secrets_dict['API Key'], secrets_dict['API Secret'])\n",
    "auth.set_access_token(secrets_dict['Access Token'], secrets_dict['Secret Access Token'])\n",
    "api = tweepy.API(auth,wait_on_rate_limit=True)\n",
    "\n",
    "my_dict = {'Date', 'Open', 'High', 'Low', 'Close', 'Adj Close', 'Volume',\n",
    "       'Volatility', 'Day_diff', 'Relative Volatility', 'date', 'tweet',\n",
    "       'tesla', 'model', 'sales', 'buy', 'btc', 'Doge'}\n",
    "#dic = {'tesla','model'}"
   ]
  },
  {
   "cell_type": "code",
   "execution_count": null,
   "id": "e7ceab22",
   "metadata": {},
   "outputs": [],
   "source": []
  },
  {
   "cell_type": "code",
   "execution_count": 17,
   "id": "cde9b55e",
   "metadata": {},
   "outputs": [],
   "source": [
    "def account_tweet () :\n",
    "    user = input('please enter a username ')\n",
    "    user = str(user)\n",
    "    tweets = api.user_timeline(screen_name = user ,count = 200)\n",
    "    user_tweet = [tweet.text for tweet in tweets]\n",
    "    date_tweet=[tweet.created_at for tweet in tweets]\n",
    "    date = [date.strftime(\"%d %b %Y\") for date in date_tweet] \n",
    "    user_tweet = pd.DataFrame(user_tweet)\n",
    "    user_tweet['Tweet date'] = date\n",
    "    user_tweet.columns = ['Tweet','Date']\n",
    "    return user_tweet"
   ]
  },
  {
   "cell_type": "code",
   "execution_count": 36,
   "id": "8f59034e",
   "metadata": {},
   "outputs": [],
   "source": [
    "def Key_word_in_tweet(x,dic) :\n",
    "  #  key= input('Please enter some keys words separated by a space')\n",
    "        for word in dic :\n",
    "            x[word] = x['Tweet'].str.find(word)\n",
    "        x = (x[x[word] > 0])\n",
    "\n",
    "        return x"
   ]
  },
  {
   "cell_type": "code",
   "execution_count": null,
   "id": "8854146a",
   "metadata": {},
   "outputs": [],
   "source": []
  },
  {
   "cell_type": "code",
   "execution_count": 43,
   "id": "04c4099b",
   "metadata": {},
   "outputs": [],
   "source": [
    "def program_flow() :\n",
    "#    user = input('please enter a username')\n",
    "    x = account_tweet()\n",
    "#    key= input('Please enter some keys words separated by a space')\n",
    "    y = Key_word_in_tweet(x, dic)\n",
    "    return y"
   ]
  },
  {
   "cell_type": "code",
   "execution_count": 44,
   "id": "1ca30fc5",
   "metadata": {},
   "outputs": [
    {
     "name": "stdout",
     "output_type": "stream",
     "text": [
      "please enter a username elonmusk\n"
     ]
    }
   ],
   "source": [
    "x = program_flow()\n"
   ]
  },
  {
   "cell_type": "code",
   "execution_count": 42,
   "id": "1304d3b3",
   "metadata": {},
   "outputs": [
    {
     "data": {
      "text/html": [
       "<div>\n",
       "<style scoped>\n",
       "    .dataframe tbody tr th:only-of-type {\n",
       "        vertical-align: middle;\n",
       "    }\n",
       "\n",
       "    .dataframe tbody tr th {\n",
       "        vertical-align: top;\n",
       "    }\n",
       "\n",
       "    .dataframe thead th {\n",
       "        text-align: right;\n",
       "    }\n",
       "</style>\n",
       "<table border=\"1\" class=\"dataframe\">\n",
       "  <thead>\n",
       "    <tr style=\"text-align: right;\">\n",
       "      <th></th>\n",
       "      <th>Tweet</th>\n",
       "      <th>Date</th>\n",
       "      <th>tesla</th>\n",
       "      <th>model</th>\n",
       "    </tr>\n",
       "  </thead>\n",
       "  <tbody>\n",
       "  </tbody>\n",
       "</table>\n",
       "</div>"
      ],
      "text/plain": [
       "Empty DataFrame\n",
       "Columns: [Tweet, Date, tesla, model]\n",
       "Index: []"
      ]
     },
     "execution_count": 42,
     "metadata": {},
     "output_type": "execute_result"
    }
   ],
   "source": [
    "x"
   ]
  },
  {
   "cell_type": "code",
   "execution_count": null,
   "id": "29b28116",
   "metadata": {},
   "outputs": [],
   "source": []
  },
  {
   "cell_type": "code",
   "execution_count": null,
   "id": "79df9dd8",
   "metadata": {},
   "outputs": [],
   "source": []
  }
 ],
 "metadata": {
  "kernelspec": {
   "display_name": "Python 3 (ipykernel)",
   "language": "python",
   "name": "python3"
  },
  "language_info": {
   "codemirror_mode": {
    "name": "ipython",
    "version": 3
   },
   "file_extension": ".py",
   "mimetype": "text/x-python",
   "name": "python",
   "nbconvert_exporter": "python",
   "pygments_lexer": "ipython3",
   "version": "3.9.7"
  }
 },
 "nbformat": 4,
 "nbformat_minor": 5
}
