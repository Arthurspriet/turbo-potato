{
 "cells": [
  {
   "cell_type": "code",
   "execution_count": 3,
   "id": "9900cdb1",
   "metadata": {},
   "outputs": [],
   "source": [
    "import tweepy\n",
    "from tweepy.auth import OAuthHandler \n",
    "import pandas as pd\n",
    "import re\n",
    "import datetime\n",
    "secrets_dict ={'API Key': '2IzuBe0WXECoP7nkENGAB1GYJ',\n",
    " 'API Secret': 'wRv9DGQUkjMTNISkJ16Qj73sPB3aHBEB2K9GkZH6uONZywX95t',\n",
    " 'Bearer token': 'AAAAAAAAAAAAAAAAAAAAANNjCQEAAAAA0tQMCT0VtM7NNbjKb5pY%2BUqnzyU%3D5XXmWifVd9R7LJL08OHXaDzdOZttCxETPAycpbsIMCqmxzwSmU',\n",
    " 'Access Token': '1223293246681559042-2pRBktBdT3aH736Q7EgPjLIkON0ame',\n",
    " 'Secret Access Token': '7Ahg4hJ8Cu9ch8yVjMzPUg7y6a2FWG0czAzch7mjqxPgS'}\n",
    "auth = tweepy.OAuthHandler(secrets_dict['API Key'], secrets_dict['API Secret'])\n",
    "auth.set_access_token(secrets_dict['Access Token'], secrets_dict['Secret Access Token'])\n",
    "api = tweepy.API(auth,wait_on_rate_limit=True)\n",
    "import sys\n",
    "import smtplib\n",
    "from email.mime.multipart import MIMEMultipart\n",
    "from email.mime.text import MIMEText\n",
    "from email.mime.base import MIMEBase\n",
    "from email import encoders\n",
    "from email.header import Header\n",
    "from email.utils import formataddr\n"
   ]
  },
  {
   "cell_type": "code",
   "execution_count": null,
   "id": "3769d596",
   "metadata": {},
   "outputs": [],
   "source": [
    "clé_google = 'yrnakdkpmfjewmja'"
   ]
  },
  {
   "cell_type": "code",
   "execution_count": 4,
   "id": "f30e0d91",
   "metadata": {},
   "outputs": [],
   "source": [
    " def __init__(self):\n",
    "        self.logaddr = \"<testmail.python.ironhack@gmail.com>\"\n",
    "        self.fromaddr = \"Sotck_tweet@infos.com\"\n",
    "        self.password = \"<yrnakdkpmfjewmja>\"#"
   ]
  },
  {
   "cell_type": "code",
   "execution_count": 5,
   "id": "8bfa52e1",
   "metadata": {},
   "outputs": [],
   "source": [
    " def sendMessageViaServer(self,toaddr,msg):\n",
    "        # Send the message via local SMTP server.\n",
    "        server = smtplib.SMTP('smtp.gmail.com', 587)\n",
    "        server.starttls()\n",
    "        server.login(self.logaddr, self.password)\n",
    "        text = msg.as_string()\n",
    "        server.sendmail(self.fromaddr, toaddr, text)\n",
    "        server.quit()"
   ]
  },
  {
   "cell_type": "code",
   "execution_count": null,
   "id": "270053e4",
   "metadata": {},
   "outputs": [],
   "source": []
  }
 ],
 "metadata": {
  "kernelspec": {
   "display_name": "Python 3 (ipykernel)",
   "language": "python",
   "name": "python3"
  },
  "language_info": {
   "codemirror_mode": {
    "name": "ipython",
    "version": 3
   },
   "file_extension": ".py",
   "mimetype": "text/x-python",
   "name": "python",
   "nbconvert_exporter": "python",
   "pygments_lexer": "ipython3",
   "version": "3.9.7"
  }
 },
 "nbformat": 4,
 "nbformat_minor": 5
}
