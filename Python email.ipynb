{
 "cells": [
  {
   "cell_type": "code",
   "execution_count": 10,
   "id": "891b2425",
   "metadata": {},
   "outputs": [
    {
     "name": "stdout",
     "output_type": "stream",
     "text": [
      "Something went wrong...\n"
     ]
    }
   ],
   "source": [
    "import smtplib\n",
    "\n",
    "try:\n",
    "    server = smtplib.SMTP('testmail.python.ironhack@gmail.com', 587)\n",
    "    server.ehlo()\n",
    "except:\n",
    "    print('Something went wrong...')"
   ]
  },
  {
   "cell_type": "code",
   "execution_count": 22,
   "id": "ecbedfda",
   "metadata": {},
   "outputs": [],
   "source": [
    "\n",
    "gmail_user = 'testmail.python.ironhack@gmail.com'\n",
    "gmail_password = 'Ironhack2021'\n",
    "\n",
    "#try:\n",
    "#    server = smtplib.SMTP_SSL('smtp.gmail.com', 465)\n",
    "#    server.ehlo()\n",
    "#    server.login(gmail_user, gmail_password)\n",
    "#except:\n",
    "#    print('Something went wrong...')"
   ]
  },
  {
   "cell_type": "code",
   "execution_count": 23,
   "id": "ca609815",
   "metadata": {},
   "outputs": [
    {
     "data": {
      "text/plain": [
       "(235, b'2.7.0 Accepted')"
      ]
     },
     "execution_count": 23,
     "metadata": {},
     "output_type": "execute_result"
    }
   ],
   "source": [
    "server = smtplib.SMTP_SSL('smtp.gmail.com', 465)\n",
    "server.ehlo()\n",
    "server.login(gmail_user, gmail_password)"
   ]
  },
  {
   "cell_type": "code",
   "execution_count": 17,
   "id": "3b947c2d",
   "metadata": {},
   "outputs": [],
   "source": [
    "sent_from = 'testmail.python.ironhack@gmail.com'\n",
    "to = ['arthurspriet2601997@gmail.com']\n",
    "subject = 'OMG Super Important Message'\n",
    "body = \"Hey, what's up?\\n\\n- You\"\n",
    "\n",
    "email_text = \"\"\"\\\n",
    "From: %s\n",
    "To: %s\n",
    "Subject: %s\n",
    "\n",
    "%s\n",
    "\"\"\" % (sent_from, \", \".join(to), subject, body)"
   ]
  },
  {
   "cell_type": "code",
   "execution_count": 29,
   "id": "1169762e",
   "metadata": {},
   "outputs": [],
   "source": [
    "def send_email():\n",
    "    gmail_user = 'testmail.python.ironhack@gmail.com'\n",
    "    gmail_password = 'Ironhack2021'\n",
    "\n",
    "    sent_from = gmail_user\n",
    "    to = ['arthurspriet2601997@gmail.com']\n",
    "    subject = 'OMG Super Important Message'\n",
    "    body = \"Hey, what's up?\\n\\n- You\"\n",
    "\n",
    "    email_text = \"\"\"\\\n",
    "    From: %s\n",
    "    To: %s\n",
    "    Subject: %s\n",
    "\n",
    "    %s\n",
    "    \"\"\" % (sent_from, \", \".join(to), subject, body)\n",
    "\n",
    "    try:\n",
    "        server = smtplib.SMTP_SSL('smtp.gmail.com', 465)\n",
    "        server.ehlo()\n",
    "        server.login(gmail_user, gmail_password)\n",
    "        server.sendmail(sent_from, to, email_text)\n",
    "        server.close()\n",
    "\n",
    "        print('Email sent!')\n",
    "    except:\n",
    "        print('Something went wrong...')"
   ]
  },
  {
   "cell_type": "code",
   "execution_count": 30,
   "id": "207acec5",
   "metadata": {},
   "outputs": [
    {
     "name": "stdout",
     "output_type": "stream",
     "text": [
      "Email sent!\n"
     ]
    }
   ],
   "source": [
    "send_email()"
   ]
  },
  {
   "cell_type": "code",
   "execution_count": null,
   "id": "c4c56366",
   "metadata": {},
   "outputs": [],
   "source": []
  }
 ],
 "metadata": {
  "kernelspec": {
   "display_name": "Python 3 (ipykernel)",
   "language": "python",
   "name": "python3"
  },
  "language_info": {
   "codemirror_mode": {
    "name": "ipython",
    "version": 3
   },
   "file_extension": ".py",
   "mimetype": "text/x-python",
   "name": "python",
   "nbconvert_exporter": "python",
   "pygments_lexer": "ipython3",
   "version": "3.9.7"
  }
 },
 "nbformat": 4,
 "nbformat_minor": 5
}
