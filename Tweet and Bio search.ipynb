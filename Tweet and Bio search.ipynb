{
 "cells": [
  {
   "cell_type": "code",
   "execution_count": 1,
   "id": "62c8e1cc",
   "metadata": {},
   "outputs": [],
   "source": [
    "import tweepy\n",
    "from tweepy.auth import OAuthHandler \n",
    "from bs4 import BeautifulSoup\n",
    "import requests\n",
    "import pandas as pd\n",
    "import re\n",
    "import datetime\n",
    "secrets_dict ={'API Key': '2IzuBe0WXECoP7nkENGAB1GYJ',\n",
    " 'API Secret': 'wRv9DGQUkjMTNISkJ16Qj73sPB3aHBEB2K9GkZH6uONZywX95t',\n",
    " 'Bearer token': 'AAAAAAAAAAAAAAAAAAAAANNjCQEAAAAA0tQMCT0VtM7NNbjKb5pY%2BUqnzyU%3D5XXmWifVd9R7LJL08OHXaDzdOZttCxETPAycpbsIMCqmxzwSmU',\n",
    " 'Access Token': '1223293246681559042-2pRBktBdT3aH736Q7EgPjLIkON0ame',\n",
    " 'Secret Access Token': '7Ahg4hJ8Cu9ch8yVjMzPUg7y6a2FWG0czAzch7mjqxPgS'}\n",
    "auth = tweepy.OAuthHandler(secrets_dict['API Key'], secrets_dict['API Secret'])\n",
    "auth.set_access_token(secrets_dict['Access Token'], secrets_dict['Secret Access Token'])\n",
    "api = tweepy.API(auth,wait_on_rate_limit=True)\n",
    "Celeb = pd.read_csv('/Users/arthurspriet/Desktop/Top 1000 celebrity twitter accounts/Top-1000-Celebrity-Twitter-Accounts.csv')\n",
    "Celeb['name'] = Celeb['name'].str.lower()\n",
    "Celeb = Celeb[['name','twitter']]"
   ]
  },
  {
   "cell_type": "code",
   "execution_count": null,
   "id": "e7ceab22",
   "metadata": {},
   "outputs": [],
   "source": []
  },
  {
   "cell_type": "code",
   "execution_count": 2,
   "id": "cde9b55e",
   "metadata": {},
   "outputs": [],
   "source": [
    "def account_tweet (user) :\n",
    "    #user = input('please enter a username')\n",
    "    user = str(user)\n",
    "    tweets = api.user_timeline(screen_name = user ,count = 200)\n",
    "    user_tweet = [tweet.text for tweet in tweets]\n",
    "    date_tweet=[tweet.created_at for tweet in tweets]\n",
    "    date = [date.strftime(\"%d %b %Y\") for date in date_tweet] \n",
    "    user_tweet = pd.DataFrame(user_tweet)\n",
    "    user_tweet['Tweet date'] = date\n",
    "    user_tweet.columns = ['Tweet','Date']\n",
    "    return user_tweet"
   ]
  },
  {
   "cell_type": "code",
   "execution_count": 3,
   "id": "e2eea7e0",
   "metadata": {},
   "outputs": [],
   "source": [
    "def wikipedia_query (x) :\n",
    "    x = x.title()\n",
    "    x = x.replace(' ','_')\n",
    "    return x"
   ]
  },
  {
   "cell_type": "code",
   "execution_count": 4,
   "id": "8f59034e",
   "metadata": {},
   "outputs": [],
   "source": [
    "def Key_word_in_tweet(x) :\n",
    "    key= input('Please enter some keys words separated by a space ')\n",
    "    key=str(key)\n",
    "    key = re.findall('[A-z][a-z]+',key)\n",
    "    for k in key :\n",
    "        x[k] = x['Tweet'].str.find(k)\n",
    "    x = (x[x[k] > 0])\n",
    "\n",
    "    return x"
   ]
  },
  {
   "cell_type": "code",
   "execution_count": 5,
   "id": "8854146a",
   "metadata": {},
   "outputs": [],
   "source": [
    "def find_account (x) :\n",
    "    celeb = Celeb.copy()\n",
    "    person = x\n",
    "    person = person.lower()\n",
    "    filter1 = Celeb['name']== person\n",
    "    x = celeb.where(filter1,inplace = True)\n",
    "    x = celeb.dropna(subset = [\"twitter\"], inplace=True)\n",
    "    x = celeb['twitter']\n",
    "    x = str(x)\n",
    "    x = re.findall('[A-z]+',x)\n",
    "    x = x[0]\n",
    "    return x"
   ]
  },
  {
   "cell_type": "code",
   "execution_count": 6,
   "id": "43313ce4",
   "metadata": {},
   "outputs": [],
   "source": [
    "def wikipedia_scrapping (x) :\n",
    "    url = 'https://en.wikipedia.org/wiki/'+str(x)\n",
    "    response = requests.get(url)\n",
    "    soup = BeautifulSoup(response.content)\n",
    "    soup.prettify()\n",
    "    infos = soup.find_all(attrs={'class':\"infobox-data\"})\n",
    "    infos = [info.text for info in infos]\n",
    "    infos = infos[0:3]\n",
    "    for info in infos :\n",
    "        info = str(info)\n",
    "    print(info)\n",
    "    return infos\n",
    "    "
   ]
  },
  {
   "cell_type": "code",
   "execution_count": 7,
   "id": "04c4099b",
   "metadata": {},
   "outputs": [],
   "source": [
    "def program_flow() :\n",
    "    people = input('enter a famous name ')\n",
    "    search = wikipedia_query(people)\n",
    "    infos = wikipedia_scrapping(search)\n",
    "    x = account_tweet(find_account(people))\n",
    "    print(infos,x)\n",
    "    return "
   ]
  },
  {
   "cell_type": "code",
   "execution_count": 8,
   "id": "1ca30fc5",
   "metadata": {},
   "outputs": [
    {
     "name": "stdout",
     "output_type": "stream",
     "text": [
      "enter a famous name elon musk\n",
      "University of Pennsylvania (BS, BA)\n",
      "['Elon Reeve Musk (1971-06-28) June 28, 1971 (age\\xa050)Pretoria, Transvaal, South Africa', 'South Africa (1971–present)Canada (1971–present)United States (2002–present)', 'University of Pennsylvania (BS, BA)']                                                  Tweet         Date\n",
      "0    @DrEliDavid Seems that way. Publishing their t...  04 Nov 2021\n",
      "1    @Jon4Lakers @Tesla We will post finer-grained ...  04 Nov 2021\n",
      "2    @koolio @Jon4Lakers @Tesla Exactly. Improved m...  04 Nov 2021\n",
      "3                                  @BillyM2k Hype^Hype  04 Nov 2021\n",
      "4    @Teslarati @Writer_01001101 In the future, any...  04 Nov 2021\n",
      "..                                                 ...          ...\n",
      "195                            https://t.co/a0F22R5Hv7  19 Oct 2021\n",
      "196  @long_elon @SciGuySpace @ShinodaChan_ Ovaltine...  19 Oct 2021\n",
      "197  @SciGuySpace @ShinodaChan_ I would gladly obey...  19 Oct 2021\n",
      "198                            https://t.co/g5ulISeWxS  18 Oct 2021\n",
      "199         @Neuro_Skeptic Luck is the best superpower  18 Oct 2021\n",
      "\n",
      "[200 rows x 2 columns]\n"
     ]
    }
   ],
   "source": [
    "x = program_flow()"
   ]
  },
  {
   "cell_type": "code",
   "execution_count": 311,
   "id": "1304d3b3",
   "metadata": {},
   "outputs": [
    {
     "name": "stdout",
     "output_type": "stream",
     "text": [
      "None\n"
     ]
    }
   ],
   "source": [
    "print(x)\n"
   ]
  },
  {
   "cell_type": "code",
   "execution_count": 289,
   "id": "29b28116",
   "metadata": {},
   "outputs": [
    {
     "name": "stdout",
     "output_type": "stream",
     "text": [
      "University of Pennsylvania (BS, BA)\n"
     ]
    },
    {
     "data": {
      "text/plain": [
       "['Elon Reeve Musk (1971-06-28) June 28, 1971 (age\\xa050)Pretoria, Transvaal, South Africa',\n",
       " 'South Africa (1971–present)Canada (1971–present)United States (2002–present)',\n",
       " 'University of Pennsylvania (BS, BA)']"
      ]
     },
     "execution_count": 289,
     "metadata": {},
     "output_type": "execute_result"
    }
   ],
   "source": [
    "x = 'Elon_Musk'\n",
    "wikipedia_scrapping (x)"
   ]
  },
  {
   "cell_type": "code",
   "execution_count": 290,
   "id": "79df9dd8",
   "metadata": {},
   "outputs": [
    {
     "data": {
      "text/html": [
       "<div>\n",
       "<style scoped>\n",
       "    .dataframe tbody tr th:only-of-type {\n",
       "        vertical-align: middle;\n",
       "    }\n",
       "\n",
       "    .dataframe tbody tr th {\n",
       "        vertical-align: top;\n",
       "    }\n",
       "\n",
       "    .dataframe thead th {\n",
       "        text-align: right;\n",
       "    }\n",
       "</style>\n",
       "<table border=\"1\" class=\"dataframe\">\n",
       "  <thead>\n",
       "    <tr style=\"text-align: right;\">\n",
       "      <th></th>\n",
       "      <th>Tweet</th>\n",
       "      <th>Date</th>\n",
       "    </tr>\n",
       "  </thead>\n",
       "  <tbody>\n",
       "    <tr>\n",
       "      <th>0</th>\n",
       "      <td>RT @Shavinz_: T’as la Ligua avec Tebas qui von...</td>\n",
       "      <td>05 Aug 2021</td>\n",
       "    </tr>\n",
       "    <tr>\n",
       "      <th>1</th>\n",
       "      <td>RT @HasPSGWonUCL: Nope.</td>\n",
       "      <td>24 Aug 2020</td>\n",
       "    </tr>\n",
       "    <tr>\n",
       "      <th>2</th>\n",
       "      <td>@GrimQjow @Seasonsart @Sebastiengaune</td>\n",
       "      <td>15 Jun 2020</td>\n",
       "    </tr>\n",
       "    <tr>\n",
       "      <th>3</th>\n",
       "      <td>RT @GrimQjow: ☄️[CONCOURS]☄️\\n\\nOuais les gars...</td>\n",
       "      <td>15 Jun 2020</td>\n",
       "    </tr>\n",
       "    <tr>\n",
       "      <th>4</th>\n",
       "      <td>RT @fabrodu13: 🚨🚨 si vous voyez ces 3 individu...</td>\n",
       "      <td>29 Apr 2020</td>\n",
       "    </tr>\n",
       "    <tr>\n",
       "      <th>...</th>\n",
       "      <td>...</td>\n",
       "      <td>...</td>\n",
       "    </tr>\n",
       "    <tr>\n",
       "      <th>160</th>\n",
       "      <td>RT @Giomosby: 🔴Je crois savoir qui va être #Pr...</td>\n",
       "      <td>15 May 2017</td>\n",
       "    </tr>\n",
       "    <tr>\n",
       "      <th>161</th>\n",
       "      <td>RT @Fabibi_13: \"Allez hop tu vois ce flocage ?...</td>\n",
       "      <td>13 May 2017</td>\n",
       "    </tr>\n",
       "    <tr>\n",
       "      <th>162</th>\n",
       "      <td>RT @WinamaxSport: - C'était quoi ce son ? \\n- ...</td>\n",
       "      <td>13 May 2017</td>\n",
       "    </tr>\n",
       "    <tr>\n",
       "      <th>163</th>\n",
       "      <td>RT @Fabibi_13: Photo d'un stadier lors de la d...</td>\n",
       "      <td>08 May 2017</td>\n",
       "    </tr>\n",
       "    <tr>\n",
       "      <th>164</th>\n",
       "      <td>RT @WinamaxSport: - Un club français ne peut p...</td>\n",
       "      <td>04 May 2017</td>\n",
       "    </tr>\n",
       "  </tbody>\n",
       "</table>\n",
       "<p>165 rows × 2 columns</p>\n",
       "</div>"
      ],
      "text/plain": [
       "                                                 Tweet         Date\n",
       "0    RT @Shavinz_: T’as la Ligua avec Tebas qui von...  05 Aug 2021\n",
       "1                              RT @HasPSGWonUCL: Nope.  24 Aug 2020\n",
       "2                @GrimQjow @Seasonsart @Sebastiengaune  15 Jun 2020\n",
       "3    RT @GrimQjow: ☄️[CONCOURS]☄️\\n\\nOuais les gars...  15 Jun 2020\n",
       "4    RT @fabrodu13: 🚨🚨 si vous voyez ces 3 individu...  29 Apr 2020\n",
       "..                                                 ...          ...\n",
       "160  RT @Giomosby: 🔴Je crois savoir qui va être #Pr...  15 May 2017\n",
       "161  RT @Fabibi_13: \"Allez hop tu vois ce flocage ?...  13 May 2017\n",
       "162  RT @WinamaxSport: - C'était quoi ce son ? \\n- ...  13 May 2017\n",
       "163  RT @Fabibi_13: Photo d'un stadier lors de la d...  08 May 2017\n",
       "164  RT @WinamaxSport: - Un club français ne peut p...  04 May 2017\n",
       "\n",
       "[165 rows x 2 columns]"
      ]
     },
     "execution_count": 290,
     "metadata": {},
     "output_type": "execute_result"
    }
   ],
   "source": [
    "x = 'ArthurSpriet'\n",
    "account_tweet (x)"
   ]
  },
  {
   "cell_type": "code",
   "execution_count": null,
   "id": "23d108b7",
   "metadata": {},
   "outputs": [],
   "source": []
  }
 ],
 "metadata": {
  "kernelspec": {
   "display_name": "Python 3 (ipykernel)",
   "language": "python",
   "name": "python3"
  },
  "language_info": {
   "codemirror_mode": {
    "name": "ipython",
    "version": 3
   },
   "file_extension": ".py",
   "mimetype": "text/x-python",
   "name": "python",
   "nbconvert_exporter": "python",
   "pygments_lexer": "ipython3",
   "version": "3.9.7"
  }
 },
 "nbformat": 4,
 "nbformat_minor": 5
}
