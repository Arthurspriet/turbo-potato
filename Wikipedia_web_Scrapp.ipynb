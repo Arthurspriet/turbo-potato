{
 "cells": [
  {
   "cell_type": "code",
   "execution_count": 5,
   "id": "d8f04559",
   "metadata": {},
   "outputs": [],
   "source": [
    "def wikipedia_query (x) :\n",
    "    x = x.title()\n",
    "    x = x.replace(' ','_')\n",
    "    return x"
   ]
  },
  {
   "cell_type": "code",
   "execution_count": 3,
   "id": "301762e6",
   "metadata": {},
   "outputs": [],
   "source": [
    "def wikipedia_scrapping (x) :\n",
    "    url = 'https://en.wikipedia.org/wiki/'+str(x)\n",
    "    response = requests.get(url)\n",
    "    soup = BeautifulSoup(response.content)\n",
    "    soup.prettify()\n",
    "    infos = soup.find_all(attrs={'class':\"infobox-data\"})\n",
    "    infos = [info.text for info in infos]\n",
    "    infos = infos[0:3]\n",
    "    for info in infos :\n",
    "        info = str(info)\n",
    "    print(info)\n",
    "    return infos\n",
    "    "
   ]
  },
  {
   "cell_type": "code",
   "execution_count": 2,
   "id": "e3462b3b",
   "metadata": {},
   "outputs": [],
   "source": [
    "from bs4 import BeautifulSoup\n",
    "import requests"
   ]
  },
  {
   "cell_type": "code",
   "execution_count": 9,
   "id": "01af282e",
   "metadata": {},
   "outputs": [
    {
     "data": {
      "text/plain": [
       "'Elon_Musk'"
      ]
     },
     "execution_count": 9,
     "metadata": {},
     "output_type": "execute_result"
    }
   ],
   "source": [
    "x = 'elon musk'\n",
    "y = wikipedia_query(x)\n",
    "y"
   ]
  },
  {
   "cell_type": "code",
   "execution_count": 10,
   "id": "0a01b23c",
   "metadata": {},
   "outputs": [
    {
     "name": "stdout",
     "output_type": "stream",
     "text": [
      "University of Pennsylvania (BS, BA)\n"
     ]
    },
    {
     "data": {
      "text/plain": [
       "['Elon Reeve Musk (1971-06-28) June 28, 1971 (age\\xa050)Pretoria, Transvaal, South Africa',\n",
       " 'South Africa (1971–present)Canada (1971–present)United States (2002–present)',\n",
       " 'University of Pennsylvania (BS, BA)']"
      ]
     },
     "execution_count": 10,
     "metadata": {},
     "output_type": "execute_result"
    }
   ],
   "source": [
    "wikipedia_scrapping (y)"
   ]
  },
  {
   "cell_type": "code",
   "execution_count": 12,
   "id": "44d2587a",
   "metadata": {},
   "outputs": [],
   "source": [
    "import time"
   ]
  },
  {
   "cell_type": "code",
   "execution_count": 13,
   "id": "87ce5222",
   "metadata": {},
   "outputs": [
    {
     "name": "stdout",
     "output_type": "stream",
     "text": [
      "e\n",
      "f\n",
      "3\n",
      "4\n",
      "6\n"
     ]
    }
   ],
   "source": [
    "x = ['e','f','3','4','6']\n",
    "for i in x :\n",
    "    time.sleep(5)\n",
    "    print(i)"
   ]
  },
  {
   "cell_type": "code",
   "execution_count": null,
   "id": "29b5d485",
   "metadata": {},
   "outputs": [],
   "source": []
  }
 ],
 "metadata": {
  "kernelspec": {
   "display_name": "Python 3 (ipykernel)",
   "language": "python",
   "name": "python3"
  },
  "language_info": {
   "codemirror_mode": {
    "name": "ipython",
    "version": 3
   },
   "file_extension": ".py",
   "mimetype": "text/x-python",
   "name": "python",
   "nbconvert_exporter": "python",
   "pygments_lexer": "ipython3",
   "version": "3.9.7"
  }
 },
 "nbformat": 4,
 "nbformat_minor": 5
}
